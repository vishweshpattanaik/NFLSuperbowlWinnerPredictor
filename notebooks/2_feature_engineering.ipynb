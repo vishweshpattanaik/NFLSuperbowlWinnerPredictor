{
 "cells": [
  {
   "cell_type": "markdown",
   "id": "9d9d087a",
   "metadata": {},
   "source": [
    "This notebook generates model-ready features from raw season statistics.\n",
    "\n",
    "**Goals:**\n",
    "- Create efficiency metrics (e.g., points per game, yards per play).\n",
    "- Calculate ratios and composite stats (e.g., turnover %, score %).\n",
    "- Add target variable: whether the team won the Super Bowl.\n",
    "\n",
    "**Tools:**\n",
    "- pandas, numpy"
   ]
  },
  {
   "cell_type": "code",
   "execution_count": 1,
   "id": "5c6abdbd",
   "metadata": {},
   "outputs": [
    {
     "name": "stdout",
     "output_type": "stream",
     "text": [
      "superbowl_winner\n",
      "0    651\n",
      "1     21\n",
      "Name: count, dtype: int64\n"
     ]
    }
   ],
   "source": [
    "import pandas as pd\n",
    "\n",
    "df = pd.read_csv('../data/processed/nfl_team_stats_2003_2023_cleaned.csv')\n",
    "\n",
    "df['superbowl_winner'] = 0\n",
    "\n",
    "winners = {\n",
    "    2003: 'New England Patriots',\n",
    "    2004: 'New England Patriots',\n",
    "    2005: 'Pittsburgh Steelers',\n",
    "    2006: 'Indianapolis Colts',\n",
    "    2007: 'New York Giants',\n",
    "    2008: 'Pittsburgh Steelers',\n",
    "    2009: 'New Orleans Saints',\n",
    "    2010: 'Green Bay Packers',\n",
    "    2011: 'New York Giants',\n",
    "    2012: 'Baltimore Ravens',\n",
    "    2013: 'Seattle Seahawks',\n",
    "    2014: 'New England Patriots',\n",
    "    2015: 'Denver Broncos',\n",
    "    2016: 'New England Patriots',\n",
    "    2017: 'Philadelphia Eagles',\n",
    "    2018: 'New England Patriots',\n",
    "    2019: 'Kansas City Chiefs',\n",
    "    2020: 'Tampa Bay Buccaneers',\n",
    "    2021: 'Los Angeles Rams',\n",
    "    2022: 'Kansas City Chiefs',\n",
    "    2023: 'Kansas City Chiefs',\n",
    "}\n",
    "\n",
    "for year, team in winners.items():\n",
    "    df.loc[(df['year'] == year) & (df['team'] == team), 'superbowl_winner'] = 1\n",
    "\n",
    "# Choose features\n",
    "features = ['points_diff', 'score_pct', 'turnover_pct', 'pass_td', 'rush_td', 'penalties']\n",
    "X = df[features]\n",
    "y = df['superbowl_winner']\n",
    "\n",
    "# Show balance of labels\n",
    "print(y.value_counts())"
   ]
  },
  {
   "cell_type": "code",
   "execution_count": 2,
   "id": "6d1976dd",
   "metadata": {},
   "outputs": [],
   "source": [
    "eff_cols = ['points', 'g', 'total_yards', 'plays_offense', \n",
    "            'pass_cmp', 'pass_att', 'rush_yds', 'rush_att']"
   ]
  },
  {
   "cell_type": "code",
   "execution_count": 3,
   "id": "d88654ce",
   "metadata": {},
   "outputs": [],
   "source": [
    "df['points_per_game'] = df['points'] / df['g']\n",
    "df['yards_per_play'] = df['total_yards'] / df['plays_offense']\n",
    "df['completion_rate'] = df['pass_cmp'] / df['pass_att']\n",
    "df['rush_avg'] = df['rush_yds'] / df['rush_att']\n",
    "\n",
    "df.fillna(0, inplace=True)"
   ]
  },
  {
   "cell_type": "code",
   "execution_count": 4,
   "id": "ed3f9645",
   "metadata": {},
   "outputs": [
    {
     "data": {
      "text/html": [
       "<div>\n",
       "<style scoped>\n",
       "    .dataframe tbody tr th:only-of-type {\n",
       "        vertical-align: middle;\n",
       "    }\n",
       "\n",
       "    .dataframe tbody tr th {\n",
       "        vertical-align: top;\n",
       "    }\n",
       "\n",
       "    .dataframe thead th {\n",
       "        text-align: right;\n",
       "    }\n",
       "</style>\n",
       "<table border=\"1\" class=\"dataframe\">\n",
       "  <thead>\n",
       "    <tr style=\"text-align: right;\">\n",
       "      <th></th>\n",
       "      <th>points_per_game</th>\n",
       "      <th>yards_per_play</th>\n",
       "      <th>completion_rate</th>\n",
       "      <th>rush_avg</th>\n",
       "    </tr>\n",
       "  </thead>\n",
       "  <tbody>\n",
       "    <tr>\n",
       "      <th>count</th>\n",
       "      <td>672.000000</td>\n",
       "      <td>672.000000</td>\n",
       "      <td>672.000000</td>\n",
       "      <td>672.000000</td>\n",
       "    </tr>\n",
       "    <tr>\n",
       "      <th>mean</th>\n",
       "      <td>22.221327</td>\n",
       "      <td>5.341469</td>\n",
       "      <td>0.618942</td>\n",
       "      <td>4.200477</td>\n",
       "    </tr>\n",
       "    <tr>\n",
       "      <th>std</th>\n",
       "      <td>4.450797</td>\n",
       "      <td>0.505036</td>\n",
       "      <td>0.042933</td>\n",
       "      <td>0.440002</td>\n",
       "    </tr>\n",
       "    <tr>\n",
       "      <th>min</th>\n",
       "      <td>10.500000</td>\n",
       "      <td>3.946225</td>\n",
       "      <td>0.487705</td>\n",
       "      <td>3.139480</td>\n",
       "    </tr>\n",
       "    <tr>\n",
       "      <th>25%</th>\n",
       "      <td>18.875000</td>\n",
       "      <td>4.991153</td>\n",
       "      <td>0.589315</td>\n",
       "      <td>3.907316</td>\n",
       "    </tr>\n",
       "    <tr>\n",
       "      <th>50%</th>\n",
       "      <td>22.150735</td>\n",
       "      <td>5.321297</td>\n",
       "      <td>0.620420</td>\n",
       "      <td>4.172836</td>\n",
       "    </tr>\n",
       "    <tr>\n",
       "      <th>75%</th>\n",
       "      <td>25.312500</td>\n",
       "      <td>5.703374</td>\n",
       "      <td>0.652562</td>\n",
       "      <td>4.476632</td>\n",
       "    </tr>\n",
       "    <tr>\n",
       "      <th>max</th>\n",
       "      <td>37.875000</td>\n",
       "      <td>6.837349</td>\n",
       "      <td>0.734104</td>\n",
       "      <td>5.533333</td>\n",
       "    </tr>\n",
       "  </tbody>\n",
       "</table>\n",
       "</div>"
      ],
      "text/plain": [
       "       points_per_game  yards_per_play  completion_rate    rush_avg\n",
       "count       672.000000      672.000000       672.000000  672.000000\n",
       "mean         22.221327        5.341469         0.618942    4.200477\n",
       "std           4.450797        0.505036         0.042933    0.440002\n",
       "min          10.500000        3.946225         0.487705    3.139480\n",
       "25%          18.875000        4.991153         0.589315    3.907316\n",
       "50%          22.150735        5.321297         0.620420    4.172836\n",
       "75%          25.312500        5.703374         0.652562    4.476632\n",
       "max          37.875000        6.837349         0.734104    5.533333"
      ]
     },
     "execution_count": 4,
     "metadata": {},
     "output_type": "execute_result"
    }
   ],
   "source": [
    "df[['points_per_game', 'yards_per_play', 'completion_rate', 'rush_avg']].describe()"
   ]
  },
  {
   "cell_type": "code",
   "execution_count": 5,
   "id": "56cd9723",
   "metadata": {},
   "outputs": [],
   "source": [
    "features = [\n",
    "    'points_diff', 'score_pct', 'turnover_pct',\n",
    "    'pass_td', 'rush_td', 'penalties',\n",
    "    'points_per_game', 'yards_per_play', 'completion_rate', 'rush_avg'\n",
    "]\n",
    "\n",
    "X = df[features]\n",
    "y = df['superbowl_winner']"
   ]
  }
 ],
 "metadata": {
  "kernelspec": {
   "display_name": "venv",
   "language": "python",
   "name": "python3"
  },
  "language_info": {
   "codemirror_mode": {
    "name": "ipython",
    "version": 3
   },
   "file_extension": ".py",
   "mimetype": "text/x-python",
   "name": "python",
   "nbconvert_exporter": "python",
   "pygments_lexer": "ipython3",
   "version": "3.11.9"
  }
 },
 "nbformat": 4,
 "nbformat_minor": 5
}
